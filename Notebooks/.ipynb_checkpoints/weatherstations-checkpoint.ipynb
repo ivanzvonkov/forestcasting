{
 "cells": [
  {
   "cell_type": "markdown",
   "metadata": {},
   "source": [
    "Objective: \n",
    "Get list of relevant weather stations in Canada"
   ]
  },
  {
   "cell_type": "code",
   "execution_count": 1,
   "metadata": {},
   "outputs": [],
   "source": [
    "# Imports\n",
    "import pandas as pd\n",
    "import numpy as np\n",
    "import geopandas as gpd\n",
    "from geopandas import GeoDataFrame\n",
    "from shapely.geometry import Point"
   ]
  },
  {
   "cell_type": "code",
   "execution_count": 2,
   "metadata": {},
   "outputs": [],
   "source": [
    "# Read in data\n",
    "stations = pd.read_csv('../Data/Weather/station_inventory.csv')"
   ]
  },
  {
   "cell_type": "code",
   "execution_count": 3,
   "metadata": {
    "scrolled": true
   },
   "outputs": [
    {
     "data": {
      "text/html": [
       "<div>\n",
       "<style scoped>\n",
       "    .dataframe tbody tr th:only-of-type {\n",
       "        vertical-align: middle;\n",
       "    }\n",
       "\n",
       "    .dataframe tbody tr th {\n",
       "        vertical-align: top;\n",
       "    }\n",
       "\n",
       "    .dataframe thead th {\n",
       "        text-align: right;\n",
       "    }\n",
       "</style>\n",
       "<table border=\"1\" class=\"dataframe\">\n",
       "  <thead>\n",
       "    <tr style=\"text-align: right;\">\n",
       "      <th></th>\n",
       "      <th>Name</th>\n",
       "      <th>Province</th>\n",
       "      <th>Climate ID</th>\n",
       "      <th>Station ID</th>\n",
       "      <th>WMO ID</th>\n",
       "      <th>TC ID</th>\n",
       "      <th>Latitude (Decimal Degrees)</th>\n",
       "      <th>Longitude (Decimal Degrees)</th>\n",
       "      <th>Latitude</th>\n",
       "      <th>Longitude</th>\n",
       "      <th>Elevation (m)</th>\n",
       "      <th>First Year</th>\n",
       "      <th>Last Year</th>\n",
       "      <th>HLY First Year</th>\n",
       "      <th>HLY Last Year</th>\n",
       "      <th>DLY First Year</th>\n",
       "      <th>DLY Last Year</th>\n",
       "      <th>MLY First Year</th>\n",
       "      <th>MLY Last Year</th>\n",
       "    </tr>\n",
       "  </thead>\n",
       "  <tbody>\n",
       "    <tr>\n",
       "      <th>0</th>\n",
       "      <td>ACTIVE PASS</td>\n",
       "      <td>BRITISH COLUMBIA</td>\n",
       "      <td>1010066</td>\n",
       "      <td>14</td>\n",
       "      <td>NaN</td>\n",
       "      <td>NaN</td>\n",
       "      <td>48.87</td>\n",
       "      <td>-123.28</td>\n",
       "      <td>485200000</td>\n",
       "      <td>-1231700000</td>\n",
       "      <td>4.0</td>\n",
       "      <td>1984</td>\n",
       "      <td>1996</td>\n",
       "      <td>NaN</td>\n",
       "      <td>NaN</td>\n",
       "      <td>1984.0</td>\n",
       "      <td>1996.0</td>\n",
       "      <td>1984.0</td>\n",
       "      <td>1996.0</td>\n",
       "    </tr>\n",
       "    <tr>\n",
       "      <th>1</th>\n",
       "      <td>ALBERT HEAD</td>\n",
       "      <td>BRITISH COLUMBIA</td>\n",
       "      <td>1010235</td>\n",
       "      <td>15</td>\n",
       "      <td>NaN</td>\n",
       "      <td>NaN</td>\n",
       "      <td>48.40</td>\n",
       "      <td>-123.48</td>\n",
       "      <td>482400000</td>\n",
       "      <td>-1232900000</td>\n",
       "      <td>17.0</td>\n",
       "      <td>1971</td>\n",
       "      <td>1995</td>\n",
       "      <td>NaN</td>\n",
       "      <td>NaN</td>\n",
       "      <td>1971.0</td>\n",
       "      <td>1995.0</td>\n",
       "      <td>1971.0</td>\n",
       "      <td>1995.0</td>\n",
       "    </tr>\n",
       "    <tr>\n",
       "      <th>2</th>\n",
       "      <td>BAMBERTON OCEAN CEMENT</td>\n",
       "      <td>BRITISH COLUMBIA</td>\n",
       "      <td>1010595</td>\n",
       "      <td>16</td>\n",
       "      <td>NaN</td>\n",
       "      <td>NaN</td>\n",
       "      <td>48.58</td>\n",
       "      <td>-123.52</td>\n",
       "      <td>483500000</td>\n",
       "      <td>-1233100000</td>\n",
       "      <td>85.3</td>\n",
       "      <td>1961</td>\n",
       "      <td>1980</td>\n",
       "      <td>NaN</td>\n",
       "      <td>NaN</td>\n",
       "      <td>1961.0</td>\n",
       "      <td>1980.0</td>\n",
       "      <td>1961.0</td>\n",
       "      <td>1980.0</td>\n",
       "    </tr>\n",
       "    <tr>\n",
       "      <th>3</th>\n",
       "      <td>BEAR CREEK</td>\n",
       "      <td>BRITISH COLUMBIA</td>\n",
       "      <td>1010720</td>\n",
       "      <td>17</td>\n",
       "      <td>NaN</td>\n",
       "      <td>NaN</td>\n",
       "      <td>48.50</td>\n",
       "      <td>-124.00</td>\n",
       "      <td>483000000</td>\n",
       "      <td>-1240000000</td>\n",
       "      <td>350.5</td>\n",
       "      <td>1910</td>\n",
       "      <td>1971</td>\n",
       "      <td>NaN</td>\n",
       "      <td>NaN</td>\n",
       "      <td>1910.0</td>\n",
       "      <td>1971.0</td>\n",
       "      <td>1910.0</td>\n",
       "      <td>1971.0</td>\n",
       "    </tr>\n",
       "    <tr>\n",
       "      <th>4</th>\n",
       "      <td>BEAVER LAKE</td>\n",
       "      <td>BRITISH COLUMBIA</td>\n",
       "      <td>1010774</td>\n",
       "      <td>18</td>\n",
       "      <td>NaN</td>\n",
       "      <td>NaN</td>\n",
       "      <td>48.50</td>\n",
       "      <td>-123.35</td>\n",
       "      <td>483000000</td>\n",
       "      <td>-1232100000</td>\n",
       "      <td>61.0</td>\n",
       "      <td>1894</td>\n",
       "      <td>1952</td>\n",
       "      <td>NaN</td>\n",
       "      <td>NaN</td>\n",
       "      <td>1894.0</td>\n",
       "      <td>1952.0</td>\n",
       "      <td>1894.0</td>\n",
       "      <td>1952.0</td>\n",
       "    </tr>\n",
       "  </tbody>\n",
       "</table>\n",
       "</div>"
      ],
      "text/plain": [
       "                     Name          Province Climate ID  Station ID  WMO ID  \\\n",
       "0             ACTIVE PASS  BRITISH COLUMBIA    1010066          14     NaN   \n",
       "1             ALBERT HEAD  BRITISH COLUMBIA    1010235          15     NaN   \n",
       "2  BAMBERTON OCEAN CEMENT  BRITISH COLUMBIA    1010595          16     NaN   \n",
       "3              BEAR CREEK  BRITISH COLUMBIA    1010720          17     NaN   \n",
       "4             BEAVER LAKE  BRITISH COLUMBIA    1010774          18     NaN   \n",
       "\n",
       "  TC ID  Latitude (Decimal Degrees)  Longitude (Decimal Degrees)   Latitude  \\\n",
       "0   NaN                       48.87                      -123.28  485200000   \n",
       "1   NaN                       48.40                      -123.48  482400000   \n",
       "2   NaN                       48.58                      -123.52  483500000   \n",
       "3   NaN                       48.50                      -124.00  483000000   \n",
       "4   NaN                       48.50                      -123.35  483000000   \n",
       "\n",
       "    Longitude  Elevation (m)  First Year  Last Year  HLY First Year  \\\n",
       "0 -1231700000            4.0        1984       1996             NaN   \n",
       "1 -1232900000           17.0        1971       1995             NaN   \n",
       "2 -1233100000           85.3        1961       1980             NaN   \n",
       "3 -1240000000          350.5        1910       1971             NaN   \n",
       "4 -1232100000           61.0        1894       1952             NaN   \n",
       "\n",
       "   HLY Last Year  DLY First Year  DLY Last Year  MLY First Year  MLY Last Year  \n",
       "0            NaN          1984.0         1996.0          1984.0         1996.0  \n",
       "1            NaN          1971.0         1995.0          1971.0         1995.0  \n",
       "2            NaN          1961.0         1980.0          1961.0         1980.0  \n",
       "3            NaN          1910.0         1971.0          1910.0         1971.0  \n",
       "4            NaN          1894.0         1952.0          1894.0         1952.0  "
      ]
     },
     "execution_count": 3,
     "metadata": {},
     "output_type": "execute_result"
    }
   ],
   "source": [
    "# Check data is read in\n",
    "stations.head()"
   ]
  },
  {
   "cell_type": "code",
   "execution_count": 4,
   "metadata": {},
   "outputs": [
    {
     "data": {
      "text/plain": [
       "['Name',\n",
       " 'Province',\n",
       " 'Climate ID',\n",
       " 'Station ID',\n",
       " 'WMO ID',\n",
       " 'TC ID',\n",
       " 'Latitude (Decimal Degrees)',\n",
       " 'Longitude (Decimal Degrees)',\n",
       " 'Latitude',\n",
       " 'Longitude',\n",
       " 'Elevation (m)',\n",
       " 'First Year',\n",
       " 'Last Year',\n",
       " 'HLY First Year',\n",
       " 'HLY Last Year',\n",
       " 'DLY First Year',\n",
       " 'DLY Last Year',\n",
       " 'MLY First Year',\n",
       " 'MLY Last Year']"
      ]
     },
     "execution_count": 4,
     "metadata": {},
     "output_type": "execute_result"
    }
   ],
   "source": [
    "# Check the column names\n",
    "list(stations)"
   ]
  },
  {
   "cell_type": "code",
   "execution_count": 5,
   "metadata": {},
   "outputs": [],
   "source": [
    "# Drop irrelevant columns\n",
    "stations.drop([\n",
    " 'WMO ID',\n",
    " 'TC ID',\n",
    " #'Latitude (Decimal Degrees)',\n",
    " #'Longitude (Decimal Degrees)',\n",
    " 'HLY First Year',\n",
    " 'HLY Last Year',\n",
    " 'DLY First Year',\n",
    " 'DLY Last Year',\n",
    " 'MLY First Year',\n",
    " 'MLY Last Year'\n",
    "], axis=1, inplace=True)"
   ]
  },
  {
   "cell_type": "code",
   "execution_count": 6,
   "metadata": {},
   "outputs": [
    {
     "name": "stdout",
     "output_type": "stream",
     "text": [
      "Total stations: 8762\n"
     ]
    }
   ],
   "source": [
    "# Total number of stations\n",
    "print('Total stations: '+str(len(stations.index)))"
   ]
  },
  {
   "cell_type": "code",
   "execution_count": 7,
   "metadata": {},
   "outputs": [
    {
     "name": "stdout",
     "output_type": "stream",
     "text": [
      "Total current stations: 1514\n",
      "Total stations active before 2000: 7629\n",
      "Total current stations active for last 20 yrs: 720\n"
     ]
    }
   ],
   "source": [
    "# Keep only stations which are current\n",
    "current = stations['Last Year'] == 2019\n",
    "print('Total current stations: '+str(len(stations[current])))\n",
    "\n",
    "active_for_last_20 = stations['First Year'] < 2000\n",
    "print('Total stations active before 2000: '+str(len(stations[active_for_last_20])))\n",
    "\n",
    "st = stations[current & active_for_last_20]\n",
    "print('Total current stations active for last 20 yrs: '+str(len(st)))"
   ]
  },
  {
   "cell_type": "code",
   "execution_count": 8,
   "metadata": {},
   "outputs": [],
   "source": [
    "# Set up geometry\n",
    "geometry = [Point(xy)\n",
    "             for xy in  zip(\n",
    "                 st['Longitude (Decimal Degrees)'],\n",
    "                 st['Latitude (Decimal Degrees)']\n",
    "             )\n",
    "            ]\n",
    "gdf = GeoDataFrame(st, geometry=geometry)"
   ]
  },
  {
   "cell_type": "code",
   "execution_count": 9,
   "metadata": {},
   "outputs": [],
   "source": [
    "# Plot GeoDataFrame to Canada\n",
    "world = gpd.read_file('../Data/world2')\n",
    "canada = world[world['SOVEREIGNT'] == 'Canada']\n",
    "gdf.plot(\n",
    "    ax=canada.plot(figsize=(10,10)), \n",
    "    marker='o', \n",
    "    color='orange', \n",
    "    markersize=5);"
   ]
  },
  {
   "cell_type": "code",
   "execution_count": 12,
   "metadata": {},
   "outputs": [],
   "source": [
    "st.to_csv('../Data/Weather/current_station_inventory.csv')"
   ]
  },
  {
   "cell_type": "markdown",
   "metadata": {},
   "source": [
    "Map current station to given coordinate system"
   ]
  },
  {
   "cell_type": "code",
   "execution_count": null,
   "metadata": {},
   "outputs": [],
   "source": [
    "# Read in grid data\n",
    "grid = pd.read_csv('../Data/alberta_grid_system.csv')"
   ]
  },
  {
   "cell_type": "code",
   "execution_count": null,
   "metadata": {},
   "outputs": [],
   "source": [
    "# Check data is read in\n",
    "grid.head()"
   ]
  },
  {
   "cell_type": "code",
   "execution_count": null,
   "metadata": {},
   "outputs": [],
   "source": [
    "from math import cos, asin, sqrt\n",
    "\n",
    "def distance(lat1, lon1, lat2, lon2):\n",
    "    p = 0.017453292519943295\n",
    "    a = 0.5 - cos((lat2-lat1)*p)/2 + cos(lat1*p)*cos(lat2*p) * (1-cos((lon2-lon1)*p)) / 2\n",
    "    return 12742 * asin(sqrt(a))\n",
    "\n",
    "def closest(weather_stations, grid_location):\n",
    "    st_dict = weather_stations.to_dict('records')\n",
    "    \n",
    "    return min(st_dict, key=lambda s: distance(\n",
    "        grid_location['LATITUDE'],\n",
    "        grid_location['LONGITUDE'],\n",
    "        s['Latitude (Decimal Degrees)'],\n",
    "        s['Longitude (Decimal Degrees)']))"
   ]
  },
  {
   "cell_type": "code",
   "execution_count": null,
   "metadata": {},
   "outputs": [],
   "source": [
    "# Go through grid\n",
    "# For each grid location find closest weather station\n",
    "# Append weather station to that grid location\n",
    "#grid.apply(lambda row: closest(st, row), axis=1)"
   ]
  },
  {
   "cell_type": "code",
   "execution_count": null,
   "metadata": {},
   "outputs": [],
   "source": [
    "grid.head()"
   ]
  }
 ],
 "metadata": {
  "kernelspec": {
   "display_name": "Python 3",
   "language": "python",
   "name": "python3"
  },
  "language_info": {
   "codemirror_mode": {
    "name": "ipython",
    "version": 3
   },
   "file_extension": ".py",
   "mimetype": "text/x-python",
   "name": "python",
   "nbconvert_exporter": "python",
   "pygments_lexer": "ipython3",
   "version": "3.7.3"
  }
 },
 "nbformat": 4,
 "nbformat_minor": 2
}
